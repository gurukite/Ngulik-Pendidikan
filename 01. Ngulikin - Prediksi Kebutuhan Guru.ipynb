{
  "nbformat": 4,
  "nbformat_minor": 0,
  "metadata": {
    "colab": {
      "provenance": [],
      "authorship_tag": "ABX9TyMdul/FnP0Ahbm56H6iWt4v",
      "include_colab_link": true
    },
    "kernelspec": {
      "name": "python3",
      "display_name": "Python 3"
    },
    "language_info": {
      "name": "python"
    }
  },
  "cells": [
    {
      "cell_type": "markdown",
      "metadata": {
        "id": "view-in-github",
        "colab_type": "text"
      },
      "source": [
        "<a href=\"https://colab.research.google.com/github/gurukite/Ngulik-Pendidikan/blob/main/01.%20Ngulikin%20-%20Prediksi%20Kebutuhan%20Guru.ipynb\" target=\"_parent\"><img src=\"https://colab.research.google.com/assets/colab-badge.svg\" alt=\"Open In Colab\"/></a>"
      ]
    },
    {
      "cell_type": "code",
      "execution_count": 4,
      "metadata": {
        "id": "T1V6kNqKZ5nz"
      },
      "outputs": [],
      "source": [
        "# ===========================\n",
        "# Prediksi Kebutuhan Guru\n",
        "# ==========================="
      ]
    },
    {
      "cell_type": "code",
      "source": [
        "# 1. Import Library\n",
        "import pandas as pd\n",
        "import numpy as np\n",
        "from prophet import Prophet\n",
        "import matplotlib.pyplot as plt\n",
        "import seaborn as sns\n",
        "import os\n",
        "from io import StringIO"
      ],
      "metadata": {
        "id": "UAUS8UNTbm3u"
      },
      "execution_count": 5,
      "outputs": []
    },
    {
      "cell_type": "code",
      "source": [
        "# ===========================\n",
        "# 2. Load Data (CSV eksternal atau contoh internal)\n",
        "# ===========================\n",
        "csv_file = 'dataset_guru.csv'\n",
        "\n",
        "try:\n",
        "    df = pd.read_csv(csv_file)\n",
        "    print(f\"Dataset '{csv_file}' berhasil dimuat.\")\n",
        "except FileNotFoundError:\n",
        "    print(f\"Dataset '{csv_file}' tidak ditemukan. Menggunakan contoh dataset internal.\")\n",
        "    csv_data = StringIO(\"\"\"\n",
        "tahun,sekolah_id,sekolah_nama,kecamatan,desa,jenjang,jumlah_siswa,jumlah_guru_ada,mata_pelajaran,guru_ada_per_mapel,rasio_siswa_per_guru_ideal\n",
        "2022,SDN001,SDN 1 Kecamatan A,Kecamatan A,Desa X,SD,120,10,Matematika,2,30\n",
        "2022,SDN001,SDN 1 Kecamatan A,Kecamatan A,Desa X,SD,120,10,IPA,1,30\n",
        "2022,SDN002,SDN 2 Kecamatan A,Kecamatan A,Desa Y,SD,150,12,Matematika,3,30\n",
        "2022,SDN002,SDN 2 Kecamatan A,Kecamatan A,Desa Y,SD,150,12,IPA,2,30\n",
        "2022,SMP001,SMP 1 Kecamatan B,Kecamatan B,Desa Z,SMP,200,8,Matematika,2,25\n",
        "2022,SMP001,SMP 1 Kecamatan B,Kecamatan B,Desa Z,SMP,200,8,Bahasa Inggris,1,25\n",
        "2022,SMP002,SMP 2 Kecamatan B,Kecamatan B,Desa W,SMP,180,9,Matematika,2,25\n",
        "2022,SMP002,SMP 2 Kecamatan B,Kecamatan B,Desa W,SMP,180,9,Bahasa Inggris,2,25\n",
        "\"\"\")\n",
        "    df = pd.read_csv(csv_data)\n",
        "    print(df.head())\n"
      ],
      "metadata": {
        "id": "uX-rLLfzbwof",
        "outputId": "6324c095-a59e-4c9f-c87f-cdc2b930efc4",
        "colab": {
          "base_uri": "https://localhost:8080/"
        }
      },
      "execution_count": 8,
      "outputs": [
        {
          "output_type": "stream",
          "name": "stdout",
          "text": [
            "Dataset 'dataset_guru.csv' tidak ditemukan. Menggunakan contoh dataset internal.\n",
            "   tahun sekolah_id       sekolah_nama    kecamatan    desa jenjang  \\\n",
            "0   2022     SDN001  SDN 1 Kecamatan A  Kecamatan A  Desa X      SD   \n",
            "1   2022     SDN001  SDN 1 Kecamatan A  Kecamatan A  Desa X      SD   \n",
            "2   2022     SDN002  SDN 2 Kecamatan A  Kecamatan A  Desa Y      SD   \n",
            "3   2022     SDN002  SDN 2 Kecamatan A  Kecamatan A  Desa Y      SD   \n",
            "4   2022     SMP001  SMP 1 Kecamatan B  Kecamatan B  Desa Z     SMP   \n",
            "\n",
            "   jumlah_siswa  jumlah_guru_ada mata_pelajaran  guru_ada_per_mapel  \\\n",
            "0           120               10     Matematika                   2   \n",
            "1           120               10            IPA                   1   \n",
            "2           150               12     Matematika                   3   \n",
            "3           150               12            IPA                   2   \n",
            "4           200                8     Matematika                   2   \n",
            "\n",
            "   rasio_siswa_per_guru_ideal  \n",
            "0                          30  \n",
            "1                          30  \n",
            "2                          30  \n",
            "3                          30  \n",
            "4                          25  \n"
          ]
        }
      ]
    }
  ]
}