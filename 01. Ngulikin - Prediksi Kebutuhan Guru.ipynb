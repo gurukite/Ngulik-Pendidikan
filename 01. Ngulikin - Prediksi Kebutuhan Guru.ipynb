{
  "nbformat": 4,
  "nbformat_minor": 0,
  "metadata": {
    "colab": {
      "provenance": [],
      "authorship_tag": "ABX9TyO7rm4VQ3SpZndzJRqrkubJ",
      "include_colab_link": true
    },
    "kernelspec": {
      "name": "python3",
      "display_name": "Python 3"
    },
    "language_info": {
      "name": "python"
    }
  },
  "cells": [
    {
      "cell_type": "markdown",
      "metadata": {
        "id": "view-in-github",
        "colab_type": "text"
      },
      "source": [
        "<a href=\"https://colab.research.google.com/github/gurukite/Ngulik-Pendidikan/blob/main/01.%20Ngulikin%20-%20Prediksi%20Kebutuhan%20Guru.ipynb\" target=\"_parent\"><img src=\"https://colab.research.google.com/assets/colab-badge.svg\" alt=\"Open In Colab\"/></a>"
      ]
    },
    {
      "cell_type": "code",
      "execution_count": null,
      "metadata": {
        "id": "T1V6kNqKZ5nz"
      },
      "outputs": [],
      "source": []
    }
  ]
}