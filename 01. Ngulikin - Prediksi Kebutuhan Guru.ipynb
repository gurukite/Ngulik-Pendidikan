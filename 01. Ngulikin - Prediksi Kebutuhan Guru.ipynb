{
  "nbformat": 4,
  "nbformat_minor": 0,
  "metadata": {
    "colab": {
      "provenance": [],
      "authorship_tag": "ABX9TyOWx7IDiT19shYvSn+qZYzw",
      "include_colab_link": true
    },
    "kernelspec": {
      "name": "python3",
      "display_name": "Python 3"
    },
    "language_info": {
      "name": "python"
    }
  },
  "cells": [
    {
      "cell_type": "markdown",
      "metadata": {
        "id": "view-in-github",
        "colab_type": "text"
      },
      "source": [
        "<a href=\"https://colab.research.google.com/github/gurukite/Ngulik-Pendidikan/blob/main/01.%20Ngulikin%20-%20Prediksi%20Kebutuhan%20Guru.ipynb\" target=\"_parent\"><img src=\"https://colab.research.google.com/assets/colab-badge.svg\" alt=\"Open In Colab\"/></a>"
      ]
    },
    {
      "cell_type": "code",
      "execution_count": 4,
      "metadata": {
        "id": "T1V6kNqKZ5nz"
      },
      "outputs": [],
      "source": [
        "# ===========================\n",
        "# Prediksi Kebutuhan Guru\n",
        "# ==========================="
      ]
    },
    {
      "cell_type": "code",
      "source": [
        "# 1. Import Library\n",
        "import pandas as pd\n",
        "import numpy as np\n",
        "from prophet import Prophet\n",
        "import matplotlib.pyplot as plt\n",
        "import seaborn as sns\n",
        "import os\n",
        "from io import StringIO"
      ],
      "metadata": {
        "id": "UAUS8UNTbm3u"
      },
      "execution_count": 5,
      "outputs": []
    },
    {
      "cell_type": "code",
      "source": [
        "# ===========================\n",
        "# 2. Load Data (CSV eksternal atau contoh internal)\n",
        "# ===========================\n",
        "csv_file = 'dataset_guru.csv'\n",
        "\n",
        "try:\n",
        "    df = pd.read_csv(csv_file)\n",
        "    print(f\"Dataset '{csv_file}' berhasil dimuat.\")\n",
        "except FileNotFoundError:\n",
        "    print(f\"Dataset '{csv_file}' tidak ditemukan. Menggunakan contoh dataset internal.\")\n",
        "    csv_data = StringIO(\"\"\"\n",
        "tahun,sekolah_id,sekolah_nama,kecamatan,desa,jenjang,jumlah_siswa,jumlah_guru_ada,mata_pelajaran,guru_ada_per_mapel,rasio_siswa_per_guru_ideal\n",
        "2022,SDN001,SDN 1 Kecamatan A,Kecamatan A,Desa X,SD,120,10,Matematika,2,30\n",
        "2022,SDN001,SDN 1 Kecamatan A,Kecamatan A,Desa X,SD,120,10,IPA,1,30\n",
        "2022,SDN002,SDN 2 Kecamatan A,Kecamatan A,Desa Y,SD,150,12,Matematika,3,30\n",
        "2022,SDN002,SDN 2 Kecamatan A,Kecamatan A,Desa Y,SD,150,12,IPA,2,30\n",
        "2022,SMP001,SMP 1 Kecamatan B,Kecamatan B,Desa Z,SMP,200,8,Matematika,2,25\n",
        "2022,SMP001,SMP 1 Kecamatan B,Kecamatan B,Desa Z,SMP,200,8,Bahasa Inggris,1,25\n",
        "2022,SMP002,SMP 2 Kecamatan B,Kecamatan B,Desa W,SMP,180,9,Matematika,2,25\n",
        "2022,SMP002,SMP 2 Kecamatan B,Kecamatan B,Desa W,SMP,180,9,Bahasa Inggris,2,25\n",
        "\"\"\")\n",
        "    df = pd.read_csv(csv_data)\n",
        "    print(df.head())\n"
      ],
      "metadata": {
        "colab": {
          "base_uri": "https://localhost:8080/"
        },
        "id": "uX-rLLfzbwof",
        "outputId": "6324c095-a59e-4c9f-c87f-cdc2b930efc4"
      },
      "execution_count": 8,
      "outputs": [
        {
          "output_type": "stream",
          "name": "stdout",
          "text": [
            "Dataset 'dataset_guru.csv' tidak ditemukan. Menggunakan contoh dataset internal.\n",
            "   tahun sekolah_id       sekolah_nama    kecamatan    desa jenjang  \\\n",
            "0   2022     SDN001  SDN 1 Kecamatan A  Kecamatan A  Desa X      SD   \n",
            "1   2022     SDN001  SDN 1 Kecamatan A  Kecamatan A  Desa X      SD   \n",
            "2   2022     SDN002  SDN 2 Kecamatan A  Kecamatan A  Desa Y      SD   \n",
            "3   2022     SDN002  SDN 2 Kecamatan A  Kecamatan A  Desa Y      SD   \n",
            "4   2022     SMP001  SMP 1 Kecamatan B  Kecamatan B  Desa Z     SMP   \n",
            "\n",
            "   jumlah_siswa  jumlah_guru_ada mata_pelajaran  guru_ada_per_mapel  \\\n",
            "0           120               10     Matematika                   2   \n",
            "1           120               10            IPA                   1   \n",
            "2           150               12     Matematika                   3   \n",
            "3           150               12            IPA                   2   \n",
            "4           200                8     Matematika                   2   \n",
            "\n",
            "   rasio_siswa_per_guru_ideal  \n",
            "0                          30  \n",
            "1                          30  \n",
            "2                          30  \n",
            "3                          30  \n",
            "4                          25  \n"
          ]
        }
      ]
    },
    {
      "cell_type": "code",
      "source": [
        "# ===========================\n",
        "# 3. Data Cleaning & Validasi\n",
        "# ===========================\n",
        "df.drop_duplicates(inplace=True)\n",
        "numeric_cols = ['jumlah_siswa', 'jumlah_guru_ada', 'guru_ada_per_mapel', 'rasio_siswa_per_guru_ideal']\n",
        "for col in numeric_cols:\n",
        "    df[col] = pd.to_numeric(df[col], errors='coerce')\n",
        "df.fillna(0, inplace=True)"
      ],
      "metadata": {
        "id": "MO-chgKpcNSM"
      },
      "execution_count": 11,
      "outputs": []
    },
    {
      "cell_type": "code",
      "source": [
        "# ===========================\n",
        "# 4. Hitung Rasio Siswa/Guru\n",
        "# ===========================\n",
        "df['rasio_siswa_per_guru'] = df['jumlah_siswa'] / df['guru_ada_per_mapel']"
      ],
      "metadata": {
        "id": "_gU7pLRxcRu5"
      },
      "execution_count": 10,
      "outputs": []
    },
    {
      "cell_type": "code",
      "source": [
        "# ===========================\n",
        "# 5a. Forecast Pertumbuhan Siswa - 5% Growth\n",
        "# ===========================\n",
        "df['proyeksi_siswa'] = (df['jumlah_siswa'] * 1.05).round().astype(int)"
      ],
      "metadata": {
        "id": "isthoZWMcVSM"
      },
      "execution_count": 12,
      "outputs": []
    },
    {
      "cell_type": "code",
      "source": [
        "# ===========================\n",
        "# 5b. Forecast Pertumbuhan Siswa - Prophet per Sekolah\n",
        "# ===========================\n",
        "def forecast_siswa_prophet(school_id, periods=1):\n",
        "    df_school = df[df['sekolah_id'] == school_id][['tahun', 'jumlah_siswa']].copy()\n",
        "    if df_school.empty:\n",
        "        return 0\n",
        "    df_school.rename(columns={'tahun': 'ds', 'jumlah_siswa': 'y'}, inplace=True)\n",
        "    model = Prophet(yearly_seasonality=True, daily_seasonality=False, weekly_seasonality=False)\n",
        "    try:\n",
        "        model.fit(df_school)\n",
        "        future = model.make_future_dataframe(periods=periods, freq='Y')\n",
        "        forecast = model.predict(future)\n",
        "        return forecast[['ds', 'yhat']].tail(periods)['yhat'].values[0]\n",
        "    except Exception as e:\n",
        "        print(f\"Forecast gagal untuk sekolah {school_id}: {e}\")\n",
        "        # fallback: growth 5%\n",
        "        current_students = df_school['y'].iloc[-1] if not df_school.empty else 0\n",
        "        return current_students * 1.05\n",
        "\n",
        "df['proyeksi_siswa_prophet'] = df['sekolah_id'].apply(lambda x: forecast_siswa_prophet(x, periods=1))\n",
        "df['proyeksi_siswa_prophet'] = df['proyeksi_siswa_prophet'].round().astype(int)"
      ],
      "metadata": {
        "collapsed": true,
        "id": "mMrErDWHcZAq",
        "outputId": "a9e75873-c700-471f-800d-e2973f7d94a9",
        "colab": {
          "base_uri": "https://localhost:8080/",
          "height": 1000
        }
      },
      "execution_count": 13,
      "outputs": [
        {
          "output_type": "stream",
          "name": "stderr",
          "text": [
            "INFO:prophet:n_changepoints greater than number of observations. Using 0.\n",
            "/usr/local/lib/python3.12/dist-packages/prophet/forecaster.py:1872: FutureWarning: 'Y' is deprecated and will be removed in a future version, please use 'YE' instead.\n",
            "  dates = pd.date_range(\n",
            "/usr/local/lib/python3.12/dist-packages/prophet/forecaster.py:1378: RuntimeWarning: Mean of empty slice\n",
            "  k = np.nanmean(self.params['k'])\n",
            "/usr/local/lib/python3.12/dist-packages/prophet/forecaster.py:1379: RuntimeWarning: Mean of empty slice\n",
            "  m = np.nanmean(self.params['m'])\n",
            "/usr/local/lib/python3.12/dist-packages/numpy/lib/_nanfunctions_impl.py:1634: RuntimeWarning: All-NaN slice encountered\n",
            "  return fnb._ureduce(a,\n",
            "INFO:prophet:n_changepoints greater than number of observations. Using 0.\n",
            "/usr/local/lib/python3.12/dist-packages/prophet/forecaster.py:1872: FutureWarning: 'Y' is deprecated and will be removed in a future version, please use 'YE' instead.\n",
            "  dates = pd.date_range(\n",
            "/usr/local/lib/python3.12/dist-packages/prophet/forecaster.py:1378: RuntimeWarning: Mean of empty slice\n",
            "  k = np.nanmean(self.params['k'])\n",
            "/usr/local/lib/python3.12/dist-packages/prophet/forecaster.py:1379: RuntimeWarning: Mean of empty slice\n",
            "  m = np.nanmean(self.params['m'])\n",
            "/usr/local/lib/python3.12/dist-packages/numpy/lib/_nanfunctions_impl.py:1634: RuntimeWarning: All-NaN slice encountered\n",
            "  return fnb._ureduce(a,\n",
            "INFO:prophet:n_changepoints greater than number of observations. Using 0.\n",
            "/usr/local/lib/python3.12/dist-packages/prophet/forecaster.py:1872: FutureWarning: 'Y' is deprecated and will be removed in a future version, please use 'YE' instead.\n",
            "  dates = pd.date_range(\n",
            "/usr/local/lib/python3.12/dist-packages/prophet/forecaster.py:1378: RuntimeWarning: Mean of empty slice\n",
            "  k = np.nanmean(self.params['k'])\n",
            "/usr/local/lib/python3.12/dist-packages/prophet/forecaster.py:1379: RuntimeWarning: Mean of empty slice\n",
            "  m = np.nanmean(self.params['m'])\n",
            "/usr/local/lib/python3.12/dist-packages/numpy/lib/_nanfunctions_impl.py:1634: RuntimeWarning: All-NaN slice encountered\n",
            "  return fnb._ureduce(a,\n",
            "INFO:prophet:n_changepoints greater than number of observations. Using 0.\n",
            "/usr/local/lib/python3.12/dist-packages/prophet/forecaster.py:1872: FutureWarning: 'Y' is deprecated and will be removed in a future version, please use 'YE' instead.\n",
            "  dates = pd.date_range(\n",
            "/usr/local/lib/python3.12/dist-packages/prophet/forecaster.py:1378: RuntimeWarning: Mean of empty slice\n",
            "  k = np.nanmean(self.params['k'])\n",
            "/usr/local/lib/python3.12/dist-packages/prophet/forecaster.py:1379: RuntimeWarning: Mean of empty slice\n",
            "  m = np.nanmean(self.params['m'])\n",
            "/usr/local/lib/python3.12/dist-packages/numpy/lib/_nanfunctions_impl.py:1634: RuntimeWarning: All-NaN slice encountered\n",
            "  return fnb._ureduce(a,\n",
            "INFO:prophet:n_changepoints greater than number of observations. Using 0.\n",
            "/usr/local/lib/python3.12/dist-packages/prophet/forecaster.py:1872: FutureWarning: 'Y' is deprecated and will be removed in a future version, please use 'YE' instead.\n",
            "  dates = pd.date_range(\n",
            "/usr/local/lib/python3.12/dist-packages/prophet/forecaster.py:1378: RuntimeWarning: Mean of empty slice\n",
            "  k = np.nanmean(self.params['k'])\n",
            "/usr/local/lib/python3.12/dist-packages/prophet/forecaster.py:1379: RuntimeWarning: Mean of empty slice\n",
            "  m = np.nanmean(self.params['m'])\n",
            "/usr/local/lib/python3.12/dist-packages/numpy/lib/_nanfunctions_impl.py:1634: RuntimeWarning: All-NaN slice encountered\n",
            "  return fnb._ureduce(a,\n",
            "INFO:prophet:n_changepoints greater than number of observations. Using 0.\n",
            "/usr/local/lib/python3.12/dist-packages/prophet/forecaster.py:1872: FutureWarning: 'Y' is deprecated and will be removed in a future version, please use 'YE' instead.\n",
            "  dates = pd.date_range(\n",
            "/usr/local/lib/python3.12/dist-packages/prophet/forecaster.py:1378: RuntimeWarning: Mean of empty slice\n",
            "  k = np.nanmean(self.params['k'])\n",
            "/usr/local/lib/python3.12/dist-packages/prophet/forecaster.py:1379: RuntimeWarning: Mean of empty slice\n",
            "  m = np.nanmean(self.params['m'])\n",
            "/usr/local/lib/python3.12/dist-packages/numpy/lib/_nanfunctions_impl.py:1634: RuntimeWarning: All-NaN slice encountered\n",
            "  return fnb._ureduce(a,\n",
            "INFO:prophet:n_changepoints greater than number of observations. Using 0.\n",
            "/usr/local/lib/python3.12/dist-packages/prophet/forecaster.py:1872: FutureWarning: 'Y' is deprecated and will be removed in a future version, please use 'YE' instead.\n",
            "  dates = pd.date_range(\n",
            "/usr/local/lib/python3.12/dist-packages/prophet/forecaster.py:1378: RuntimeWarning: Mean of empty slice\n",
            "  k = np.nanmean(self.params['k'])\n",
            "/usr/local/lib/python3.12/dist-packages/prophet/forecaster.py:1379: RuntimeWarning: Mean of empty slice\n",
            "  m = np.nanmean(self.params['m'])\n",
            "/usr/local/lib/python3.12/dist-packages/numpy/lib/_nanfunctions_impl.py:1634: RuntimeWarning: All-NaN slice encountered\n",
            "  return fnb._ureduce(a,\n",
            "INFO:prophet:n_changepoints greater than number of observations. Using 0.\n",
            "/usr/local/lib/python3.12/dist-packages/prophet/forecaster.py:1872: FutureWarning: 'Y' is deprecated and will be removed in a future version, please use 'YE' instead.\n",
            "  dates = pd.date_range(\n",
            "/usr/local/lib/python3.12/dist-packages/prophet/forecaster.py:1378: RuntimeWarning: Mean of empty slice\n",
            "  k = np.nanmean(self.params['k'])\n",
            "/usr/local/lib/python3.12/dist-packages/prophet/forecaster.py:1379: RuntimeWarning: Mean of empty slice\n",
            "  m = np.nanmean(self.params['m'])\n",
            "/usr/local/lib/python3.12/dist-packages/numpy/lib/_nanfunctions_impl.py:1634: RuntimeWarning: All-NaN slice encountered\n",
            "  return fnb._ureduce(a,\n"
          ]
        },
        {
          "output_type": "error",
          "ename": "IntCastingNaNError",
          "evalue": "Cannot convert non-finite values (NA or inf) to integer",
          "traceback": [
            "\u001b[0;31m---------------------------------------------------------------------------\u001b[0m",
            "\u001b[0;31mIntCastingNaNError\u001b[0m                        Traceback (most recent call last)",
            "\u001b[0;32m/tmp/ipython-input-287275879.py\u001b[0m in \u001b[0;36m<cell line: 0>\u001b[0;34m()\u001b[0m\n\u001b[1;32m     20\u001b[0m \u001b[0;34m\u001b[0m\u001b[0m\n\u001b[1;32m     21\u001b[0m \u001b[0mdf\u001b[0m\u001b[0;34m[\u001b[0m\u001b[0;34m'proyeksi_siswa_prophet'\u001b[0m\u001b[0;34m]\u001b[0m \u001b[0;34m=\u001b[0m \u001b[0mdf\u001b[0m\u001b[0;34m[\u001b[0m\u001b[0;34m'sekolah_id'\u001b[0m\u001b[0;34m]\u001b[0m\u001b[0;34m.\u001b[0m\u001b[0mapply\u001b[0m\u001b[0;34m(\u001b[0m\u001b[0;32mlambda\u001b[0m \u001b[0mx\u001b[0m\u001b[0;34m:\u001b[0m \u001b[0mforecast_siswa_prophet\u001b[0m\u001b[0;34m(\u001b[0m\u001b[0mx\u001b[0m\u001b[0;34m,\u001b[0m \u001b[0mperiods\u001b[0m\u001b[0;34m=\u001b[0m\u001b[0;36m1\u001b[0m\u001b[0;34m)\u001b[0m\u001b[0;34m)\u001b[0m\u001b[0;34m\u001b[0m\u001b[0;34m\u001b[0m\u001b[0m\n\u001b[0;32m---> 22\u001b[0;31m \u001b[0mdf\u001b[0m\u001b[0;34m[\u001b[0m\u001b[0;34m'proyeksi_siswa_prophet'\u001b[0m\u001b[0;34m]\u001b[0m \u001b[0;34m=\u001b[0m \u001b[0mdf\u001b[0m\u001b[0;34m[\u001b[0m\u001b[0;34m'proyeksi_siswa_prophet'\u001b[0m\u001b[0;34m]\u001b[0m\u001b[0;34m.\u001b[0m\u001b[0mround\u001b[0m\u001b[0;34m(\u001b[0m\u001b[0;34m)\u001b[0m\u001b[0;34m.\u001b[0m\u001b[0mastype\u001b[0m\u001b[0;34m(\u001b[0m\u001b[0mint\u001b[0m\u001b[0;34m)\u001b[0m\u001b[0;34m\u001b[0m\u001b[0;34m\u001b[0m\u001b[0m\n\u001b[0m",
            "\u001b[0;32m/usr/local/lib/python3.12/dist-packages/pandas/core/generic.py\u001b[0m in \u001b[0;36mastype\u001b[0;34m(self, dtype, copy, errors)\u001b[0m\n\u001b[1;32m   6641\u001b[0m         \u001b[0;32melse\u001b[0m\u001b[0;34m:\u001b[0m\u001b[0;34m\u001b[0m\u001b[0;34m\u001b[0m\u001b[0m\n\u001b[1;32m   6642\u001b[0m             \u001b[0;31m# else, only a single dtype is given\u001b[0m\u001b[0;34m\u001b[0m\u001b[0;34m\u001b[0m\u001b[0m\n\u001b[0;32m-> 6643\u001b[0;31m             \u001b[0mnew_data\u001b[0m \u001b[0;34m=\u001b[0m \u001b[0mself\u001b[0m\u001b[0;34m.\u001b[0m\u001b[0m_mgr\u001b[0m\u001b[0;34m.\u001b[0m\u001b[0mastype\u001b[0m\u001b[0;34m(\u001b[0m\u001b[0mdtype\u001b[0m\u001b[0;34m=\u001b[0m\u001b[0mdtype\u001b[0m\u001b[0;34m,\u001b[0m \u001b[0mcopy\u001b[0m\u001b[0;34m=\u001b[0m\u001b[0mcopy\u001b[0m\u001b[0;34m,\u001b[0m \u001b[0merrors\u001b[0m\u001b[0;34m=\u001b[0m\u001b[0merrors\u001b[0m\u001b[0;34m)\u001b[0m\u001b[0;34m\u001b[0m\u001b[0;34m\u001b[0m\u001b[0m\n\u001b[0m\u001b[1;32m   6644\u001b[0m             \u001b[0mres\u001b[0m \u001b[0;34m=\u001b[0m \u001b[0mself\u001b[0m\u001b[0;34m.\u001b[0m\u001b[0m_constructor_from_mgr\u001b[0m\u001b[0;34m(\u001b[0m\u001b[0mnew_data\u001b[0m\u001b[0;34m,\u001b[0m \u001b[0maxes\u001b[0m\u001b[0;34m=\u001b[0m\u001b[0mnew_data\u001b[0m\u001b[0;34m.\u001b[0m\u001b[0maxes\u001b[0m\u001b[0;34m)\u001b[0m\u001b[0;34m\u001b[0m\u001b[0;34m\u001b[0m\u001b[0m\n\u001b[1;32m   6645\u001b[0m             \u001b[0;32mreturn\u001b[0m \u001b[0mres\u001b[0m\u001b[0;34m.\u001b[0m\u001b[0m__finalize__\u001b[0m\u001b[0;34m(\u001b[0m\u001b[0mself\u001b[0m\u001b[0;34m,\u001b[0m \u001b[0mmethod\u001b[0m\u001b[0;34m=\u001b[0m\u001b[0;34m\"astype\"\u001b[0m\u001b[0;34m)\u001b[0m\u001b[0;34m\u001b[0m\u001b[0;34m\u001b[0m\u001b[0m\n",
            "\u001b[0;32m/usr/local/lib/python3.12/dist-packages/pandas/core/internals/managers.py\u001b[0m in \u001b[0;36mastype\u001b[0;34m(self, dtype, copy, errors)\u001b[0m\n\u001b[1;32m    428\u001b[0m             \u001b[0mcopy\u001b[0m \u001b[0;34m=\u001b[0m \u001b[0;32mFalse\u001b[0m\u001b[0;34m\u001b[0m\u001b[0;34m\u001b[0m\u001b[0m\n\u001b[1;32m    429\u001b[0m \u001b[0;34m\u001b[0m\u001b[0m\n\u001b[0;32m--> 430\u001b[0;31m         return self.apply(\n\u001b[0m\u001b[1;32m    431\u001b[0m             \u001b[0;34m\"astype\"\u001b[0m\u001b[0;34m,\u001b[0m\u001b[0;34m\u001b[0m\u001b[0;34m\u001b[0m\u001b[0m\n\u001b[1;32m    432\u001b[0m             \u001b[0mdtype\u001b[0m\u001b[0;34m=\u001b[0m\u001b[0mdtype\u001b[0m\u001b[0;34m,\u001b[0m\u001b[0;34m\u001b[0m\u001b[0;34m\u001b[0m\u001b[0m\n",
            "\u001b[0;32m/usr/local/lib/python3.12/dist-packages/pandas/core/internals/managers.py\u001b[0m in \u001b[0;36mapply\u001b[0;34m(self, f, align_keys, **kwargs)\u001b[0m\n\u001b[1;32m    361\u001b[0m                 \u001b[0mapplied\u001b[0m \u001b[0;34m=\u001b[0m \u001b[0mb\u001b[0m\u001b[0;34m.\u001b[0m\u001b[0mapply\u001b[0m\u001b[0;34m(\u001b[0m\u001b[0mf\u001b[0m\u001b[0;34m,\u001b[0m \u001b[0;34m**\u001b[0m\u001b[0mkwargs\u001b[0m\u001b[0;34m)\u001b[0m\u001b[0;34m\u001b[0m\u001b[0;34m\u001b[0m\u001b[0m\n\u001b[1;32m    362\u001b[0m             \u001b[0;32melse\u001b[0m\u001b[0;34m:\u001b[0m\u001b[0;34m\u001b[0m\u001b[0;34m\u001b[0m\u001b[0m\n\u001b[0;32m--> 363\u001b[0;31m                 \u001b[0mapplied\u001b[0m \u001b[0;34m=\u001b[0m \u001b[0mgetattr\u001b[0m\u001b[0;34m(\u001b[0m\u001b[0mb\u001b[0m\u001b[0;34m,\u001b[0m \u001b[0mf\u001b[0m\u001b[0;34m)\u001b[0m\u001b[0;34m(\u001b[0m\u001b[0;34m**\u001b[0m\u001b[0mkwargs\u001b[0m\u001b[0;34m)\u001b[0m\u001b[0;34m\u001b[0m\u001b[0;34m\u001b[0m\u001b[0m\n\u001b[0m\u001b[1;32m    364\u001b[0m             \u001b[0mresult_blocks\u001b[0m \u001b[0;34m=\u001b[0m \u001b[0mextend_blocks\u001b[0m\u001b[0;34m(\u001b[0m\u001b[0mapplied\u001b[0m\u001b[0;34m,\u001b[0m \u001b[0mresult_blocks\u001b[0m\u001b[0;34m)\u001b[0m\u001b[0;34m\u001b[0m\u001b[0;34m\u001b[0m\u001b[0m\n\u001b[1;32m    365\u001b[0m \u001b[0;34m\u001b[0m\u001b[0m\n",
            "\u001b[0;32m/usr/local/lib/python3.12/dist-packages/pandas/core/internals/blocks.py\u001b[0m in \u001b[0;36mastype\u001b[0;34m(self, dtype, copy, errors, using_cow, squeeze)\u001b[0m\n\u001b[1;32m    756\u001b[0m             \u001b[0mvalues\u001b[0m \u001b[0;34m=\u001b[0m \u001b[0mvalues\u001b[0m\u001b[0;34m[\u001b[0m\u001b[0;36m0\u001b[0m\u001b[0;34m,\u001b[0m \u001b[0;34m:\u001b[0m\u001b[0;34m]\u001b[0m  \u001b[0;31m# type: ignore[call-overload]\u001b[0m\u001b[0;34m\u001b[0m\u001b[0;34m\u001b[0m\u001b[0m\n\u001b[1;32m    757\u001b[0m \u001b[0;34m\u001b[0m\u001b[0m\n\u001b[0;32m--> 758\u001b[0;31m         \u001b[0mnew_values\u001b[0m \u001b[0;34m=\u001b[0m \u001b[0mastype_array_safe\u001b[0m\u001b[0;34m(\u001b[0m\u001b[0mvalues\u001b[0m\u001b[0;34m,\u001b[0m \u001b[0mdtype\u001b[0m\u001b[0;34m,\u001b[0m \u001b[0mcopy\u001b[0m\u001b[0;34m=\u001b[0m\u001b[0mcopy\u001b[0m\u001b[0;34m,\u001b[0m \u001b[0merrors\u001b[0m\u001b[0;34m=\u001b[0m\u001b[0merrors\u001b[0m\u001b[0;34m)\u001b[0m\u001b[0;34m\u001b[0m\u001b[0;34m\u001b[0m\u001b[0m\n\u001b[0m\u001b[1;32m    759\u001b[0m \u001b[0;34m\u001b[0m\u001b[0m\n\u001b[1;32m    760\u001b[0m         \u001b[0mnew_values\u001b[0m \u001b[0;34m=\u001b[0m \u001b[0mmaybe_coerce_values\u001b[0m\u001b[0;34m(\u001b[0m\u001b[0mnew_values\u001b[0m\u001b[0;34m)\u001b[0m\u001b[0;34m\u001b[0m\u001b[0;34m\u001b[0m\u001b[0m\n",
            "\u001b[0;32m/usr/local/lib/python3.12/dist-packages/pandas/core/dtypes/astype.py\u001b[0m in \u001b[0;36mastype_array_safe\u001b[0;34m(values, dtype, copy, errors)\u001b[0m\n\u001b[1;32m    235\u001b[0m \u001b[0;34m\u001b[0m\u001b[0m\n\u001b[1;32m    236\u001b[0m     \u001b[0;32mtry\u001b[0m\u001b[0;34m:\u001b[0m\u001b[0;34m\u001b[0m\u001b[0;34m\u001b[0m\u001b[0m\n\u001b[0;32m--> 237\u001b[0;31m         \u001b[0mnew_values\u001b[0m \u001b[0;34m=\u001b[0m \u001b[0mastype_array\u001b[0m\u001b[0;34m(\u001b[0m\u001b[0mvalues\u001b[0m\u001b[0;34m,\u001b[0m \u001b[0mdtype\u001b[0m\u001b[0;34m,\u001b[0m \u001b[0mcopy\u001b[0m\u001b[0;34m=\u001b[0m\u001b[0mcopy\u001b[0m\u001b[0;34m)\u001b[0m\u001b[0;34m\u001b[0m\u001b[0;34m\u001b[0m\u001b[0m\n\u001b[0m\u001b[1;32m    238\u001b[0m     \u001b[0;32mexcept\u001b[0m \u001b[0;34m(\u001b[0m\u001b[0mValueError\u001b[0m\u001b[0;34m,\u001b[0m \u001b[0mTypeError\u001b[0m\u001b[0;34m)\u001b[0m\u001b[0;34m:\u001b[0m\u001b[0;34m\u001b[0m\u001b[0;34m\u001b[0m\u001b[0m\n\u001b[1;32m    239\u001b[0m         \u001b[0;31m# e.g. _astype_nansafe can fail on object-dtype of strings\u001b[0m\u001b[0;34m\u001b[0m\u001b[0;34m\u001b[0m\u001b[0m\n",
            "\u001b[0;32m/usr/local/lib/python3.12/dist-packages/pandas/core/dtypes/astype.py\u001b[0m in \u001b[0;36mastype_array\u001b[0;34m(values, dtype, copy)\u001b[0m\n\u001b[1;32m    180\u001b[0m \u001b[0;34m\u001b[0m\u001b[0m\n\u001b[1;32m    181\u001b[0m     \u001b[0;32melse\u001b[0m\u001b[0;34m:\u001b[0m\u001b[0;34m\u001b[0m\u001b[0;34m\u001b[0m\u001b[0m\n\u001b[0;32m--> 182\u001b[0;31m         \u001b[0mvalues\u001b[0m \u001b[0;34m=\u001b[0m \u001b[0m_astype_nansafe\u001b[0m\u001b[0;34m(\u001b[0m\u001b[0mvalues\u001b[0m\u001b[0;34m,\u001b[0m \u001b[0mdtype\u001b[0m\u001b[0;34m,\u001b[0m \u001b[0mcopy\u001b[0m\u001b[0;34m=\u001b[0m\u001b[0mcopy\u001b[0m\u001b[0;34m)\u001b[0m\u001b[0;34m\u001b[0m\u001b[0;34m\u001b[0m\u001b[0m\n\u001b[0m\u001b[1;32m    183\u001b[0m \u001b[0;34m\u001b[0m\u001b[0m\n\u001b[1;32m    184\u001b[0m     \u001b[0;31m# in pandas we don't store numpy str dtypes, so convert to object\u001b[0m\u001b[0;34m\u001b[0m\u001b[0;34m\u001b[0m\u001b[0m\n",
            "\u001b[0;32m/usr/local/lib/python3.12/dist-packages/pandas/core/dtypes/astype.py\u001b[0m in \u001b[0;36m_astype_nansafe\u001b[0;34m(arr, dtype, copy, skipna)\u001b[0m\n\u001b[1;32m     99\u001b[0m \u001b[0;34m\u001b[0m\u001b[0m\n\u001b[1;32m    100\u001b[0m     \u001b[0;32melif\u001b[0m \u001b[0mnp\u001b[0m\u001b[0;34m.\u001b[0m\u001b[0missubdtype\u001b[0m\u001b[0;34m(\u001b[0m\u001b[0marr\u001b[0m\u001b[0;34m.\u001b[0m\u001b[0mdtype\u001b[0m\u001b[0;34m,\u001b[0m \u001b[0mnp\u001b[0m\u001b[0;34m.\u001b[0m\u001b[0mfloating\u001b[0m\u001b[0;34m)\u001b[0m \u001b[0;32mand\u001b[0m \u001b[0mdtype\u001b[0m\u001b[0;34m.\u001b[0m\u001b[0mkind\u001b[0m \u001b[0;32min\u001b[0m \u001b[0;34m\"iu\"\u001b[0m\u001b[0;34m:\u001b[0m\u001b[0;34m\u001b[0m\u001b[0;34m\u001b[0m\u001b[0m\n\u001b[0;32m--> 101\u001b[0;31m         \u001b[0;32mreturn\u001b[0m \u001b[0m_astype_float_to_int_nansafe\u001b[0m\u001b[0;34m(\u001b[0m\u001b[0marr\u001b[0m\u001b[0;34m,\u001b[0m \u001b[0mdtype\u001b[0m\u001b[0;34m,\u001b[0m \u001b[0mcopy\u001b[0m\u001b[0;34m)\u001b[0m\u001b[0;34m\u001b[0m\u001b[0;34m\u001b[0m\u001b[0m\n\u001b[0m\u001b[1;32m    102\u001b[0m \u001b[0;34m\u001b[0m\u001b[0m\n\u001b[1;32m    103\u001b[0m     \u001b[0;32melif\u001b[0m \u001b[0marr\u001b[0m\u001b[0;34m.\u001b[0m\u001b[0mdtype\u001b[0m \u001b[0;34m==\u001b[0m \u001b[0mobject\u001b[0m\u001b[0;34m:\u001b[0m\u001b[0;34m\u001b[0m\u001b[0;34m\u001b[0m\u001b[0m\n",
            "\u001b[0;32m/usr/local/lib/python3.12/dist-packages/pandas/core/dtypes/astype.py\u001b[0m in \u001b[0;36m_astype_float_to_int_nansafe\u001b[0;34m(values, dtype, copy)\u001b[0m\n\u001b[1;32m    143\u001b[0m     \"\"\"\n\u001b[1;32m    144\u001b[0m     \u001b[0;32mif\u001b[0m \u001b[0;32mnot\u001b[0m \u001b[0mnp\u001b[0m\u001b[0;34m.\u001b[0m\u001b[0misfinite\u001b[0m\u001b[0;34m(\u001b[0m\u001b[0mvalues\u001b[0m\u001b[0;34m)\u001b[0m\u001b[0;34m.\u001b[0m\u001b[0mall\u001b[0m\u001b[0;34m(\u001b[0m\u001b[0;34m)\u001b[0m\u001b[0;34m:\u001b[0m\u001b[0;34m\u001b[0m\u001b[0;34m\u001b[0m\u001b[0m\n\u001b[0;32m--> 145\u001b[0;31m         raise IntCastingNaNError(\n\u001b[0m\u001b[1;32m    146\u001b[0m             \u001b[0;34m\"Cannot convert non-finite values (NA or inf) to integer\"\u001b[0m\u001b[0;34m\u001b[0m\u001b[0;34m\u001b[0m\u001b[0m\n\u001b[1;32m    147\u001b[0m         )\n",
            "\u001b[0;31mIntCastingNaNError\u001b[0m: Cannot convert non-finite values (NA or inf) to integer"
          ]
        }
      ]
    },
    {
      "cell_type": "code",
      "source": [
        "# ===========================\n",
        "# 6. Hitung Kebutuhan Guru Masa Depan\n",
        "# ===========================\n",
        "df['jumlah_guru_dibutuhkan'] = np.ceil(df['proyeksi_siswa'] / df['rasio_siswa_per_guru_ideal'])\n",
        "df['kekurangan_guru'] = df['jumlah_guru_dibutuhkan'] - df['guru_ada_per_mapel']\n",
        "df['kekurangan_guru'] = df['kekurangan_guru'].apply(lambda x: max(x, 0))\n",
        "\n",
        "df['jumlah_guru_dibutuhkan_prophet'] = np.ceil(df['proyeksi_siswa_prophet'] / df['rasio_siswa_per_guru_ideal'])\n",
        "df['kekurangan_guru_prophet'] = df['jumlah_guru_dibutuhkan_prophet'] - df['guru_ada_per_mapel']\n",
        "df['kekurangan_guru_prophet'] = df['kekurangan_guru_prophet'].apply(lambda x: max(x,0))\n",
        "\n",
        "def prioritas(kekurangan):\n",
        "    if kekurangan >= 3:\n",
        "        return 'Tinggi'\n",
        "    elif kekurangan == 2:\n",
        "        return 'Sedang'\n",
        "    elif kekurangan == 1:\n",
        "        return 'Rendah'\n",
        "    else:\n",
        "        return 'Cukup'\n",
        "\n",
        "df['prioritas'] = df['kekurangan_guru'].apply(prioritas)\n",
        "df['rekomendasi_penempatan'] = df['prioritas'].apply(\n",
        "    lambda x: 'Rekrut baru' if x in ['Tinggi','Sedang'] else 'Tidak perlu'\n",
        ")\n",
        "df['prioritas_prophet'] = df['kekurangan_guru_prophet'].apply(prioritas)\n",
        "df['rekomendasi_penempatan_prophet'] = df['prioritas_prophet'].apply(\n",
        "    lambda x: 'Rekrut baru' if x in ['Tinggi','Sedang'] else 'Tidak perlu'\n",
        ")\n"
      ],
      "metadata": {
        "id": "egQ-Nw69cg81"
      },
      "execution_count": 14,
      "outputs": []
    },
    {
      "cell_type": "code",
      "source": [
        "# ===========================\n",
        "# 7. Agregasi Per Jenjang & Kecamatan\n",
        "# ===========================\n",
        "agg_kecamatan = df.groupby(['kecamatan','jenjang']).agg({\n",
        "    'jumlah_siswa':'sum',\n",
        "    'jumlah_guru_ada':'sum',\n",
        "    'jumlah_guru_dibutuhkan':'sum',\n",
        "    'kekurangan_guru':'sum'\n",
        "}).reset_index()\n",
        "\n",
        "agg_kecamatan_prophet = df.groupby(['kecamatan','jenjang']).agg({\n",
        "    'jumlah_siswa':'sum',\n",
        "    'jumlah_guru_ada':'sum',\n",
        "    'jumlah_guru_dibutuhkan_prophet':'sum',\n",
        "    'kekurangan_guru_prophet':'sum'\n",
        "}).reset_index()"
      ],
      "metadata": {
        "id": "OAsbbERacljW"
      },
      "execution_count": 15,
      "outputs": []
    },
    {
      "cell_type": "code",
      "source": [
        "# ===========================\n",
        "# 8. Export Hasil\n",
        "# ===========================\n",
        "os.makedirs('output', exist_ok=True)\n",
        "df.to_csv('output/hasil_prediksi_guru_per_sekolah.csv', index=False)\n",
        "agg_kecamatan.to_csv('output/hasil_prediksi_guru_per_kecamatan.csv', index=False)\n",
        "df.to_csv('output/hasil_prediksi_guru_prophet_per_sekolah.csv', index=False)\n",
        "agg_kecamatan_prophet.to_csv('output/hasil_prediksi_guru_prophet_per_kecamatan.csv', index=False)\n",
        "print(\"Prediksi kebutuhan guru berhasil dihitung dan diekspor di folder 'output/'.\")\n"
      ],
      "metadata": {
        "id": "eH6-lco5co3J",
        "outputId": "70ca12ab-55e8-46be-d8e6-03ad41f5107c",
        "colab": {
          "base_uri": "https://localhost:8080/"
        }
      },
      "execution_count": 16,
      "outputs": [
        {
          "output_type": "stream",
          "name": "stdout",
          "text": [
            "Prediksi kebutuhan guru berhasil dihitung dan diekspor di folder 'output/'.\n"
          ]
        }
      ]
    },
    {
      "cell_type": "code",
      "source": [
        "# ===========================\n",
        "# 9. Visualisasi Distribusi Guru & Simpan Chart\n",
        "# ===========================\n",
        "os.makedirs('charts', exist_ok=True)\n",
        "\n",
        "# a) Kekurangan Guru per Kecamatan (5% growth)\n",
        "plt.figure(figsize=(10,6))\n",
        "sns.barplot(data=agg_kecamatan, x='kecamatan', y='kekurangan_guru', hue='jenjang')\n",
        "plt.title('Kekurangan Guru per Kecamatan dan Jenjang')\n",
        "plt.ylabel('Kekurangan Guru')\n",
        "plt.xlabel('Kecamatan')\n",
        "plt.xticks(rotation=45)\n",
        "plt.legend(title='Jenjang')\n",
        "plt.tight_layout()\n",
        "plt.savefig('charts/kekurangan_guru_per_kecamatan.png')\n",
        "plt.close()\n",
        "\n",
        "# b) Kekurangan Guru per Kecamatan (Prophet)\n",
        "plt.figure(figsize=(10,6))\n",
        "sns.barplot(data=agg_kecamatan_prophet, x='kecamatan', y='kekurangan_guru_prophet', hue='jenjang')\n",
        "plt.title('Kekurangan Guru per Kecamatan dan Jenjang (Prophet Forecast)')\n",
        "plt.ylabel('Kekurangan Guru')\n",
        "plt.xlabel('Kecamatan')\n",
        "plt.xticks(rotation=45)\n",
        "plt.legend(title='Jenjang')\n",
        "plt.tight_layout()\n",
        "plt.savefig('charts/kekurangan_guru_prophet_per_kecamatan.png')\n",
        "plt.close()\n",
        "\n",
        "# c) Distribusi Guru per Mata Pelajaran\n",
        "plt.figure(figsize=(12,6))\n",
        "sns.barplot(data=df, x='mata_pelajaran', y='guru_ada_per_mapel', hue='jenjang')\n",
        "plt.title('Distribusi Guru per Mata Pelajaran dan Jenjang')\n",
        "plt.ylabel('Jumlah Guru')\n",
        "plt.xlabel('Mata Pelajaran')\n",
        "plt.xticks(rotation=45)\n",
        "plt.legend(title='Jenjang')\n",
        "plt.tight_layout()\n",
        "plt.savefig('charts/distribusi_guru_per_mapel.png')\n",
        "plt.close()\n",
        "\n",
        "# d) Heatmap Kekurangan Guru per Sekolah (5% growth)\n",
        "pivot = df.pivot_table(index='sekolah_nama', columns='mata_pelajaran', values='kekurangan_guru', fill_value=0)\n",
        "plt.figure(figsize=(12,8))\n",
        "sns.heatmap(pivot, annot=True, cmap='Reds')\n",
        "plt.title('Heatmap Kekurangan Guru per Sekolah dan Mata Pelajaran')\n",
        "plt.ylabel('Sekolah')\n",
        "plt.xlabel('Mata Pelajaran')\n",
        "plt.tight_layout()\n",
        "plt.savefig('charts/heatmap_kekurangan_guru.png')\n",
        "plt.close()\n",
        "\n",
        "# e) Heatmap Kekurangan Guru per Sekolah (Prophet)\n",
        "pivot_prophet = df.pivot_table(index='sekolah_nama', columns='mata_pelajaran', values='kekurangan_guru_prophet', fill_value=0)\n",
        "plt.figure(figsize=(12,8))\n",
        "sns.heatmap(pivot_prophet, annot=True, cmap='Reds')\n",
        "plt.title('Heatmap Kekurangan Guru per Sekolah dan Mata Pelajaran (Prophet Forecast)')\n",
        "plt.ylabel('Sekolah')\n",
        "plt.xlabel('Mata Pelajaran')\n",
        "plt.tight_layout()\n",
        "plt.savefig('charts/heatmap_kekurangan_guru_prophet.png')\n",
        "plt.close()\n",
        "\n",
        "print(\"Semua chart berhasil disimpan di folder 'charts/'\")"
      ],
      "metadata": {
        "id": "D5Sujt11c6PX",
        "outputId": "c92c96ab-4086-405a-8eae-9262f1f1c471",
        "colab": {
          "base_uri": "https://localhost:8080/",
          "height": 391
        }
      },
      "execution_count": 17,
      "outputs": [
        {
          "output_type": "error",
          "ename": "ValueError",
          "evalue": "zero-size array to reduction operation fmin which has no identity",
          "traceback": [
            "\u001b[0;31m---------------------------------------------------------------------------\u001b[0m",
            "\u001b[0;31mValueError\u001b[0m                                Traceback (most recent call last)",
            "\u001b[0;32m/tmp/ipython-input-733049782.py\u001b[0m in \u001b[0;36m<cell line: 0>\u001b[0;34m()\u001b[0m\n\u001b[1;32m     54\u001b[0m \u001b[0mpivot_prophet\u001b[0m \u001b[0;34m=\u001b[0m \u001b[0mdf\u001b[0m\u001b[0;34m.\u001b[0m\u001b[0mpivot_table\u001b[0m\u001b[0;34m(\u001b[0m\u001b[0mindex\u001b[0m\u001b[0;34m=\u001b[0m\u001b[0;34m'sekolah_nama'\u001b[0m\u001b[0;34m,\u001b[0m \u001b[0mcolumns\u001b[0m\u001b[0;34m=\u001b[0m\u001b[0;34m'mata_pelajaran'\u001b[0m\u001b[0;34m,\u001b[0m \u001b[0mvalues\u001b[0m\u001b[0;34m=\u001b[0m\u001b[0;34m'kekurangan_guru_prophet'\u001b[0m\u001b[0;34m,\u001b[0m \u001b[0mfill_value\u001b[0m\u001b[0;34m=\u001b[0m\u001b[0;36m0\u001b[0m\u001b[0;34m)\u001b[0m\u001b[0;34m\u001b[0m\u001b[0;34m\u001b[0m\u001b[0m\n\u001b[1;32m     55\u001b[0m \u001b[0mplt\u001b[0m\u001b[0;34m.\u001b[0m\u001b[0mfigure\u001b[0m\u001b[0;34m(\u001b[0m\u001b[0mfigsize\u001b[0m\u001b[0;34m=\u001b[0m\u001b[0;34m(\u001b[0m\u001b[0;36m12\u001b[0m\u001b[0;34m,\u001b[0m\u001b[0;36m8\u001b[0m\u001b[0;34m)\u001b[0m\u001b[0;34m)\u001b[0m\u001b[0;34m\u001b[0m\u001b[0;34m\u001b[0m\u001b[0m\n\u001b[0;32m---> 56\u001b[0;31m \u001b[0msns\u001b[0m\u001b[0;34m.\u001b[0m\u001b[0mheatmap\u001b[0m\u001b[0;34m(\u001b[0m\u001b[0mpivot_prophet\u001b[0m\u001b[0;34m,\u001b[0m \u001b[0mannot\u001b[0m\u001b[0;34m=\u001b[0m\u001b[0;32mTrue\u001b[0m\u001b[0;34m,\u001b[0m \u001b[0mcmap\u001b[0m\u001b[0;34m=\u001b[0m\u001b[0;34m'Reds'\u001b[0m\u001b[0;34m)\u001b[0m\u001b[0;34m\u001b[0m\u001b[0;34m\u001b[0m\u001b[0m\n\u001b[0m\u001b[1;32m     57\u001b[0m \u001b[0mplt\u001b[0m\u001b[0;34m.\u001b[0m\u001b[0mtitle\u001b[0m\u001b[0;34m(\u001b[0m\u001b[0;34m'Heatmap Kekurangan Guru per Sekolah dan Mata Pelajaran (Prophet Forecast)'\u001b[0m\u001b[0;34m)\u001b[0m\u001b[0;34m\u001b[0m\u001b[0;34m\u001b[0m\u001b[0m\n\u001b[1;32m     58\u001b[0m \u001b[0mplt\u001b[0m\u001b[0;34m.\u001b[0m\u001b[0mylabel\u001b[0m\u001b[0;34m(\u001b[0m\u001b[0;34m'Sekolah'\u001b[0m\u001b[0;34m)\u001b[0m\u001b[0;34m\u001b[0m\u001b[0;34m\u001b[0m\u001b[0m\n",
            "\u001b[0;32m/usr/local/lib/python3.12/dist-packages/seaborn/matrix.py\u001b[0m in \u001b[0;36mheatmap\u001b[0;34m(data, vmin, vmax, cmap, center, robust, annot, fmt, annot_kws, linewidths, linecolor, cbar, cbar_kws, cbar_ax, square, xticklabels, yticklabels, mask, ax, **kwargs)\u001b[0m\n\u001b[1;32m    444\u001b[0m     \"\"\"\n\u001b[1;32m    445\u001b[0m     \u001b[0;31m# Initialize the plotter object\u001b[0m\u001b[0;34m\u001b[0m\u001b[0;34m\u001b[0m\u001b[0m\n\u001b[0;32m--> 446\u001b[0;31m     plotter = _HeatMapper(data, vmin, vmax, cmap, center, robust, annot, fmt,\n\u001b[0m\u001b[1;32m    447\u001b[0m                           \u001b[0mannot_kws\u001b[0m\u001b[0;34m,\u001b[0m \u001b[0mcbar\u001b[0m\u001b[0;34m,\u001b[0m \u001b[0mcbar_kws\u001b[0m\u001b[0;34m,\u001b[0m \u001b[0mxticklabels\u001b[0m\u001b[0;34m,\u001b[0m\u001b[0;34m\u001b[0m\u001b[0;34m\u001b[0m\u001b[0m\n\u001b[1;32m    448\u001b[0m                           yticklabels, mask)\n",
            "\u001b[0;32m/usr/local/lib/python3.12/dist-packages/seaborn/matrix.py\u001b[0m in \u001b[0;36m__init__\u001b[0;34m(self, data, vmin, vmax, cmap, center, robust, annot, fmt, annot_kws, cbar, cbar_kws, xticklabels, yticklabels, mask)\u001b[0m\n\u001b[1;32m    161\u001b[0m \u001b[0;34m\u001b[0m\u001b[0m\n\u001b[1;32m    162\u001b[0m         \u001b[0;31m# Determine good default values for the colormapping\u001b[0m\u001b[0;34m\u001b[0m\u001b[0;34m\u001b[0m\u001b[0m\n\u001b[0;32m--> 163\u001b[0;31m         self._determine_cmap_params(plot_data, vmin, vmax,\n\u001b[0m\u001b[1;32m    164\u001b[0m                                     cmap, center, robust)\n\u001b[1;32m    165\u001b[0m \u001b[0;34m\u001b[0m\u001b[0m\n",
            "\u001b[0;32m/usr/local/lib/python3.12/dist-packages/seaborn/matrix.py\u001b[0m in \u001b[0;36m_determine_cmap_params\u001b[0;34m(self, plot_data, vmin, vmax, cmap, center, robust)\u001b[0m\n\u001b[1;32m    200\u001b[0m                 \u001b[0mvmin\u001b[0m \u001b[0;34m=\u001b[0m \u001b[0mnp\u001b[0m\u001b[0;34m.\u001b[0m\u001b[0mnanpercentile\u001b[0m\u001b[0;34m(\u001b[0m\u001b[0mcalc_data\u001b[0m\u001b[0;34m,\u001b[0m \u001b[0;36m2\u001b[0m\u001b[0;34m)\u001b[0m\u001b[0;34m\u001b[0m\u001b[0;34m\u001b[0m\u001b[0m\n\u001b[1;32m    201\u001b[0m             \u001b[0;32melse\u001b[0m\u001b[0;34m:\u001b[0m\u001b[0;34m\u001b[0m\u001b[0;34m\u001b[0m\u001b[0m\n\u001b[0;32m--> 202\u001b[0;31m                 \u001b[0mvmin\u001b[0m \u001b[0;34m=\u001b[0m \u001b[0mnp\u001b[0m\u001b[0;34m.\u001b[0m\u001b[0mnanmin\u001b[0m\u001b[0;34m(\u001b[0m\u001b[0mcalc_data\u001b[0m\u001b[0;34m)\u001b[0m\u001b[0;34m\u001b[0m\u001b[0;34m\u001b[0m\u001b[0m\n\u001b[0m\u001b[1;32m    203\u001b[0m         \u001b[0;32mif\u001b[0m \u001b[0mvmax\u001b[0m \u001b[0;32mis\u001b[0m \u001b[0;32mNone\u001b[0m\u001b[0;34m:\u001b[0m\u001b[0;34m\u001b[0m\u001b[0;34m\u001b[0m\u001b[0m\n\u001b[1;32m    204\u001b[0m             \u001b[0;32mif\u001b[0m \u001b[0mrobust\u001b[0m\u001b[0;34m:\u001b[0m\u001b[0;34m\u001b[0m\u001b[0;34m\u001b[0m\u001b[0m\n",
            "\u001b[0;32m/usr/local/lib/python3.12/dist-packages/numpy/lib/_nanfunctions_impl.py\u001b[0m in \u001b[0;36mnanmin\u001b[0;34m(a, axis, out, keepdims, initial, where)\u001b[0m\n\u001b[1;32m    358\u001b[0m         \u001b[0;31m# Fast, but not safe for subclasses of ndarray, or object arrays,\u001b[0m\u001b[0;34m\u001b[0m\u001b[0;34m\u001b[0m\u001b[0m\n\u001b[1;32m    359\u001b[0m         \u001b[0;31m# which do not implement isnan (gh-9009), or fmin correctly (gh-8975)\u001b[0m\u001b[0;34m\u001b[0m\u001b[0;34m\u001b[0m\u001b[0m\n\u001b[0;32m--> 360\u001b[0;31m         \u001b[0mres\u001b[0m \u001b[0;34m=\u001b[0m \u001b[0mnp\u001b[0m\u001b[0;34m.\u001b[0m\u001b[0mfmin\u001b[0m\u001b[0;34m.\u001b[0m\u001b[0mreduce\u001b[0m\u001b[0;34m(\u001b[0m\u001b[0ma\u001b[0m\u001b[0;34m,\u001b[0m \u001b[0maxis\u001b[0m\u001b[0;34m=\u001b[0m\u001b[0maxis\u001b[0m\u001b[0;34m,\u001b[0m \u001b[0mout\u001b[0m\u001b[0;34m=\u001b[0m\u001b[0mout\u001b[0m\u001b[0;34m,\u001b[0m \u001b[0;34m**\u001b[0m\u001b[0mkwargs\u001b[0m\u001b[0;34m)\u001b[0m\u001b[0;34m\u001b[0m\u001b[0;34m\u001b[0m\u001b[0m\n\u001b[0m\u001b[1;32m    361\u001b[0m         \u001b[0;32mif\u001b[0m \u001b[0mnp\u001b[0m\u001b[0;34m.\u001b[0m\u001b[0misnan\u001b[0m\u001b[0;34m(\u001b[0m\u001b[0mres\u001b[0m\u001b[0;34m)\u001b[0m\u001b[0;34m.\u001b[0m\u001b[0many\u001b[0m\u001b[0;34m(\u001b[0m\u001b[0;34m)\u001b[0m\u001b[0;34m:\u001b[0m\u001b[0;34m\u001b[0m\u001b[0;34m\u001b[0m\u001b[0m\n\u001b[1;32m    362\u001b[0m             warnings.warn(\"All-NaN slice encountered\", RuntimeWarning,\n",
            "\u001b[0;31mValueError\u001b[0m: zero-size array to reduction operation fmin which has no identity"
          ]
        },
        {
          "output_type": "display_data",
          "data": {
            "text/plain": [
              "<Figure size 1200x800 with 0 Axes>"
            ]
          },
          "metadata": {}
        }
      ]
    }
  ]
}